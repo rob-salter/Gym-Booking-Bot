{
 "cells": [
  {
   "cell_type": "markdown",
   "metadata": {},
   "source": [
    "# Gym Time Booking Bot - Initial Code"
   ]
  },
  {
   "cell_type": "code",
   "execution_count": null,
   "metadata": {},
   "outputs": [],
   "source": [
    "# import required modules \n",
    "from selenium import webdriver\n",
    "from selenium.webdriver.common.by import By\n",
    "from selenium.webdriver.common.keys import Keys \n",
    "from selenium.webdriver.support.ui import Select\n",
    "from selenium.webdriver.support import expected_conditions as EC\n",
    "from selenium.webdriver.support.ui import WebDriverWait\n",
    "from selenium.common.exceptions import NoSuchElementException\n",
    "from selenium.common.exceptions import TimeoutException\n",
    "import time\n",
    "\n",
    "# We are opening Google chrome browser and using \"driver.maximize_window\" method maximize the browser window.\n",
    "driver = webdriver.Chrome()\n",
    "driver.maximize_window()\n",
    "\n",
    "driver.get(\"GYM URL\")\n",
    "delay = 20 # seconds\n",
    "#Select dropdown menu\n",
    "\n",
    "# deselect gym\n",
    "element = WebDriverWait(driver, delay).until(EC.presence_of_element_located((By.XPATH,'/html/body/div[4]/header/div[1]/div[2]/div[2]/div[1]/ul/li[2]/a/i')))\n",
    "driver.execute_script(\"arguments[0].click();\", element)\n",
    "\n",
    "# deselect gym\n",
    "element = WebDriverWait(driver, delay).until(EC.presence_of_element_located((By.XPATH,'/html/body/div[4]/header/div[1]/div[2]/div[2]/div[1]/ul/li[1]/a/i')))\n",
    "driver.execute_script(\"arguments[0].click();\", element)\n",
    "\n",
    "#deselect gym\n",
    "element = WebDriverWait(driver, delay).until(EC.presence_of_element_located((By.XPATH,'/html/body/div[4]/header/div[1]/div[2]/div[2]/div[1]/ul/li[1]/a/i')))\n",
    "driver.execute_script(\"arguments[0].click();\", element)\n",
    "time.sleep(1)\n",
    "\n",
    "#select labbet\n",
    "select = Select(driver.find_element_by_xpath('//*[@id=\"unit\"]'))\n",
    "select.select_by_index(3)\n",
    "time.sleep(1)\n",
    "\n",
    "# click search button to filter\n",
    "element = driver.find_element_by_xpath('//*[@id=\"search-selection\"]')\n",
    "driver.execute_script(\"arguments[0].click();\", element)\n",
    "time.sleep(1)\n",
    "\n",
    "element = driver.find_element_by_xpath('/html/body/div[4]/div[1]/section/div/div/div/div/ul/li[7]/ul/li[4]/div[6]/a')\n",
    "driver.execute_script(\"arguments[0].click();\", element)\n",
    "time.sleep(1)\n",
    "# enter email\n",
    "\n",
    "driver.find_element_by_xpath('/html/body/div[2]/div/div[1]/div[1]/div/form/div/ul/li[5]/input').send_keys('EMAIL ADDRESS')\n",
    "time.sleep(1)\n",
    "\n",
    "#enter password\n",
    "driver.find_element_by_xpath('//*[@id=\"Password\"]').send_keys('PASSWORD')\n",
    "time.sleep(1)\n",
    "\n",
    "#click book pass\n",
    "element = driver.find_element_by_xpath('/html/body/div[2]/div/div[1]/div[1]/div/form/div/input')\n",
    "driver.execute_script(\"arguments[0].click();\", element)\n",
    "time.sleep(20)\n",
    "\n",
    "driver.quit()\n",
    "\n",
    "\n"
   ]
  }
 ],
 "metadata": {
  "kernelspec": {
   "display_name": "Python 3",
   "language": "python",
   "name": "python3"
  },
  "language_info": {
   "codemirror_mode": {
    "name": "ipython",
    "version": 3
   },
   "file_extension": ".py",
   "mimetype": "text/x-python",
   "name": "python",
   "nbconvert_exporter": "python",
   "pygments_lexer": "ipython3",
   "version": "3.7.4"
  }
 },
 "nbformat": 4,
 "nbformat_minor": 2
}
